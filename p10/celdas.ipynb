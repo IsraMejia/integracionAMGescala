{
 "cells": [
  {
   "cell_type": "markdown",
   "metadata": {},
   "source": [
    "Notebook para definir las celdas del pixel Art "
   ]
  },
  {
   "cell_type": "markdown",
   "metadata": {},
   "source": []
  },
  {
   "cell_type": "code",
   "execution_count": 8,
   "metadata": {},
   "outputs": [
    {
     "name": "stdout",
     "output_type": "stream",
     "text": [
      "\n",
      "ELSIF ((column > (x + 78) AND column < (x + 90)) AND (row > (y + 18) AND row < (y + 27)) ) THEN\n",
      "\t\t\t\tred <= (OTHERS => '1'); --  \n",
      "\t\t\t\tgreen <= (OTHERS => '0'); \n",
      "\t\t\t\tblue <= (OTHERS => '0'); \n",
      "\n"
     ]
    }
   ],
   "source": [
    "\"\"\"Consideraciones a tomar en cuenta\n",
    "\n",
    "-Margen de dibujo 30 x 30\n",
    "Pixel dibujabe es de 3x3\n",
    "\n",
    "\"\"\"\n",
    "\n",
    "ini_col = 26\n",
    "fin_col = 30   \n",
    "\n",
    "ini_ren = 6\n",
    "n_ren = 3\n",
    "fin_ren = (ini_ren *3 )+ (n_ren * 3)\n",
    "\n",
    "salida = f\"\"\"\n",
    "ELSIF ((column > (x + {ini_col*3}) AND column < (x + {fin_col*3})) AND (row > (y + {ini_ren*3}) AND row < (y + {fin_ren})) ) THEN\n",
    "\t\t\t\tred <= (OTHERS => '1'); --  \n",
    "\t\t\t\tgreen <= (OTHERS => '0'); \n",
    "\t\t\t\tblue <= (OTHERS => '0'); \n",
    "\"\"\"\n",
    "\n",
    "print(salida)\n",
    " "
   ]
  }
 ],
 "metadata": {
  "kernelspec": {
   "display_name": "Python 3",
   "language": "python",
   "name": "python3"
  },
  "language_info": {
   "codemirror_mode": {
    "name": "ipython",
    "version": 3
   },
   "file_extension": ".py",
   "mimetype": "text/x-python",
   "name": "python",
   "nbconvert_exporter": "python",
   "pygments_lexer": "ipython3",
   "version": "3.10.4"
  }
 },
 "nbformat": 4,
 "nbformat_minor": 2
}
