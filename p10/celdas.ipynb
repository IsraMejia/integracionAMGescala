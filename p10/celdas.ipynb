{
 "cells": [
  {
   "cell_type": "markdown",
   "metadata": {},
   "source": [
    "Notebook para definir las celdas del pixel Art "
   ]
  },
  {
   "cell_type": "markdown",
   "metadata": {},
   "source": []
  },
  {
   "cell_type": "code",
   "execution_count": 64,
   "metadata": {},
   "outputs": [
    {
     "name": "stdout",
     "output_type": "stream",
     "text": [
      "\n",
      "\tELSIF ((column >= (x + 57) AND column <= (x + 75)) AND (row > (y + 63) AND row <= (y + 69)) ) THEN\n",
      "\t\t\t\tred <= (OTHERS => '1'); --tenis iz 2\n",
      "\n"
     ]
    }
   ],
   "source": [
    "\"\"\"Consideraciones a tomar en cuenta\n",
    "-Margen de dibujo 30 x 30\n",
    "Pixel dibujabe es de 3x3 \"\"\"\n",
    "ini_col = 19\n",
    "fin_col = 25   \n",
    "\n",
    "ini_ren = 21\n",
    "n_ren = 2 \n",
    "fin_ren = (ini_ren * 3) + (n_ren * 3) \n",
    "\n",
    "salida = f\"\"\"\n",
    "\tELSIF ((column >= (x + {ini_col*3}) AND column <= (x + {fin_col*3})) AND (row > (y + {ini_ren*3}) AND row <= (y + {fin_ren})) ) THEN\n",
    "\t\t\t\tred <= (OTHERS => '1'); --tenis iz 2\n",
    "\"\"\"\n",
    "print(salida) "
   ]
  },
  {
   "cell_type": "code",
   "execution_count": null,
   "metadata": {},
   "outputs": [],
   "source": [
    "\"\"\" SIGNAL y : INTEGER RANGE 0 TO 400 := 400;\n",
    "\tSIGNAL x : INTEGER RANGE 0 TO 600 := 0;\n",
    "\"\"\""
   ]
  }
 ],
 "metadata": {
  "kernelspec": {
   "display_name": "Python 3",
   "language": "python",
   "name": "python3"
  },
  "language_info": {
   "codemirror_mode": {
    "name": "ipython",
    "version": 3
   },
   "file_extension": ".py",
   "mimetype": "text/x-python",
   "name": "python",
   "nbconvert_exporter": "python",
   "pygments_lexer": "ipython3",
   "version": "3.10.4"
  }
 },
 "nbformat": 4,
 "nbformat_minor": 2
}
